{
    "cells": [
        {
            "cell_type": "markdown",
            "metadata": {},
            "source": "# My name is Amal"
        },
        {
            "cell_type": "markdown",
            "metadata": {},
            "source": "# I choose this corse to improve my skills with data"
        },
        {
            "cell_type": "markdown",
            "metadata": {},
            "source": "# i would to thank you for your time"
        },
        {
            "cell_type": "code",
            "execution_count": null,
            "metadata": {},
            "outputs": [],
            "source": ""
        }
    ],
    "metadata": {
        "kernelspec": {
            "display_name": "Python 3.8",
            "language": "python",
            "name": "python3"
        },
        "language_info": {
            "codemirror_mode": {
                "name": "ipython",
                "version": 3
            },
            "file_extension": ".py",
            "mimetype": "text/x-python",
            "name": "python",
            "nbconvert_exporter": "python",
            "pygments_lexer": "ipython3",
            "version": "3.8.11"
        }
    },
    "nbformat": 4,
    "nbformat_minor": 1
}